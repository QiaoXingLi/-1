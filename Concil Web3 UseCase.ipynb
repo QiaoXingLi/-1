{
  "cells": [
    {
      "cell_type": "markdown",
      "metadata": {
        "id": "view-in-github",
        "colab_type": "text"
      },
      "source": [
        "<a href=\"https://colab.research.google.com/github/QiaoXingLi/-1/blob/master/Concil%20Web3%20UseCase.ipynb\" target=\"_parent\"><img src=\"https://colab.research.google.com/assets/colab-badge.svg\" alt=\"Open In Colab\"/></a>"
      ]
    },
    {
      "cell_type": "markdown",
      "source": [
        "# First Example"
      ],
      "metadata": {
        "collapsed": false,
        "id": "uvwrWsXL4Wty"
      }
    },
    {
      "cell_type": "markdown",
      "source": [
        "Install the council-ai library"
      ],
      "metadata": {
        "id": "K0Ht9MJD4ZSK"
      }
    },
    {
      "cell_type": "code",
      "source": [
        "!pip install council-ai"
      ],
      "metadata": {
        "id": "ZakRvEbO4cxv"
      },
      "execution_count": null,
      "outputs": []
    },
    {
      "cell_type": "markdown",
      "source": [
        "Import Council."
      ],
      "metadata": {
        "collapsed": false,
        "id": "tYXUZtDM4Wtz"
      }
    },
    {
      "cell_type": "code",
      "execution_count": null,
      "outputs": [],
      "source": [
        "from council.chains import Chain\n",
        "from council.skills import LLMSkill\n",
        "from council.llm import OpenAILLM, OpenAILLMConfiguration\n"
      ],
      "metadata": {
        "id": "IjLDn1vb4Wt0"
      }
    },
    {
      "cell_type": "markdown",
      "source": [
        "Setup API keys and use it to setup the LLM (here: OpenAILLM)."
      ],
      "metadata": {
        "collapsed": false,
        "id": "JY45dLaM4Wt1"
      }
    },
    {
      "cell_type": "code",
      "execution_count": null,
      "outputs": [],
      "source": [
        "import os\n",
        "\n",
        "os.environ['OPENAI_API_KEY'] = 'your api key here'\n",
        "\n",
        "openai_llm = OpenAILLM(config=OpenAILLMConfiguration.from_env())\n"
      ],
      "metadata": {
        "id": "ifjaNjth4Wt1"
      }
    },
    {
      "cell_type": "markdown",
      "source": [
        "Create your first Hello World Skill and Wrap it in a Chain.\n"
      ],
      "metadata": {
        "collapsed": false,
        "id": "8Y4oH4ah4Wt1"
      }
    },
    {
      "cell_type": "code",
      "execution_count": null,
      "outputs": [],
      "source": [
        "prompt = \"You are responding to every prompt with a short poem titled hello world\"\n",
        "hw_skill = LLMSkill(llm=openai_llm, system_prompt=prompt)\n",
        "hw_chain = Chain(name=\"Hello World\", description=\"Answers with a poem about titled Hello World\", runners=[hw_skill])\n"
      ],
      "metadata": {
        "id": "QlazcmF-4Wt1"
      }
    },
    {
      "cell_type": "markdown",
      "source": [
        "Create a second Skill (that responds only with Emojis).\n"
      ],
      "metadata": {
        "collapsed": false,
        "id": "FBbSsMDg4Wt2"
      }
    },
    {
      "cell_type": "code",
      "execution_count": null,
      "outputs": [],
      "source": [
        "prompt = \"You are responding to every prompt with an emoji that best addresses the question asked or statement made\"\n",
        "em_skill = LLMSkill(llm=openai_llm, system_prompt=prompt)\n",
        "em_chain = Chain(name=\"Emoji Agent\", description=\"Responds to every prompt with an emoji that best fits the prompt\",\n",
        "                 runners=[em_skill])"
      ],
      "metadata": {
        "id": "ZM1Nfn9d4Wt2"
      }
    },
    {
      "cell_type": "markdown",
      "source": [
        "Create a Controller to route prompts to chains. Here we use the straight-forward LLMController in which an LLM instance is tasked to make a routing decision.\n"
      ],
      "metadata": {
        "collapsed": false,
        "id": "ejUfyCZE4Wt3"
      }
    },
    {
      "cell_type": "code",
      "execution_count": null,
      "outputs": [],
      "source": [
        "from council.controllers import LLMController\n",
        "\n",
        "controller = LLMController(llm=openai_llm, response_threshold=5)\n"
      ],
      "metadata": {
        "id": "sD0X0ha14Wt3"
      }
    },
    {
      "cell_type": "markdown",
      "source": [
        "Create an Evaluator. Here, we use an LLMEvaluator in which an LLM is tasked to evaluate each response received.\n"
      ],
      "metadata": {
        "collapsed": false,
        "id": "-09t-Qv04Wt3"
      }
    },
    {
      "cell_type": "code",
      "execution_count": null,
      "outputs": [],
      "source": [
        "from council.evaluators import LLMEvaluator\n",
        "\n",
        "evaluator = LLMEvaluator(llm=openai_llm)\n"
      ],
      "metadata": {
        "id": "VklPUZV_4Wt3"
      }
    },
    {
      "cell_type": "markdown",
      "source": [
        "Finalize setup of the Hello World first Agent by combining all components created.\n"
      ],
      "metadata": {
        "collapsed": false,
        "id": "tSrYbWEr4Wt4"
      }
    },
    {
      "cell_type": "code",
      "execution_count": null,
      "outputs": [],
      "source": [
        "from council.agents import Agent\n",
        "\n",
        "agent = Agent(controller=controller, chains=[hw_chain, em_chain], evaluator=evaluator)\n"
      ],
      "metadata": {
        "id": "v5H-lFNb4Wt4"
      }
    },
    {
      "cell_type": "markdown",
      "source": [
        "Now, we are ready to invoke the agent.\n"
      ],
      "metadata": {
        "collapsed": false,
        "id": "Q4JI7HNY4Wt4"
      }
    },
    {
      "cell_type": "code",
      "execution_count": null,
      "outputs": [],
      "source": [
        "result = agent.execute_from_user_message(\"hello world?!\")\n",
        "print(result.best_message.message)\n"
      ],
      "metadata": {
        "id": "acqUROT34Wt4"
      }
    },
    {
      "cell_type": "code",
      "source": [],
      "metadata": {
        "id": "qhES_sEo49Gf"
      },
      "execution_count": null,
      "outputs": []
    }
  ],
  "metadata": {
    "kernelspec": {
      "display_name": "Python 3",
      "language": "python",
      "name": "python3"
    },
    "language_info": {
      "codemirror_mode": {
        "name": "ipython",
        "version": 2
      },
      "file_extension": ".py",
      "mimetype": "text/x-python",
      "name": "python",
      "nbconvert_exporter": "python",
      "pygments_lexer": "ipython2",
      "version": "2.7.6"
    },
    "colab": {
      "provenance": [],
      "include_colab_link": true
    }
  },
  "nbformat": 4,
  "nbformat_minor": 0
}